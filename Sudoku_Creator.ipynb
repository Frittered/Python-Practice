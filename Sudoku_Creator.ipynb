{
 "cells": [
  {
   "cell_type": "code",
   "execution_count": 35,
   "id": "07913853",
   "metadata": {},
   "outputs": [
    {
     "data": {
      "text/plain": [
       "array([[1, 2, 3],\n",
       "       [4, 5, 6],\n",
       "       [7, 8, 9]])"
      ]
     },
     "execution_count": 35,
     "metadata": {},
     "output_type": "execute_result"
    }
   ],
   "source": [
    "# let's try to create a sudoku grid and a repository of suitable sets\n",
    "import numpy as np\n",
    "number_list = [1,2,3,4,5,6,7,8,9]\n",
    "cell = np.array(number_list).reshape(3,3)\n",
    "cell"
   ]
  },
  {
   "cell_type": "code",
   "execution_count": 96,
   "id": "f5ce7595",
   "metadata": {},
   "outputs": [
    {
     "data": {
      "text/plain": [
       "(array([[[[1, 2, 3],\n",
       "          [4, 5, 6],\n",
       "          [7, 8, 9]],\n",
       " \n",
       "         [[1, 2, 3],\n",
       "          [4, 5, 6],\n",
       "          [7, 8, 9]],\n",
       " \n",
       "         [[1, 2, 3],\n",
       "          [4, 5, 6],\n",
       "          [7, 8, 9]]],\n",
       " \n",
       " \n",
       "        [[[1, 2, 3],\n",
       "          [4, 5, 6],\n",
       "          [7, 8, 9]],\n",
       " \n",
       "         [[1, 2, 3],\n",
       "          [4, 5, 6],\n",
       "          [7, 8, 9]],\n",
       " \n",
       "         [[1, 2, 3],\n",
       "          [4, 5, 6],\n",
       "          [7, 8, 9]]],\n",
       " \n",
       " \n",
       "        [[[1, 2, 3],\n",
       "          [4, 5, 6],\n",
       "          [7, 8, 9]],\n",
       " \n",
       "         [[1, 2, 3],\n",
       "          [4, 5, 6],\n",
       "          [7, 8, 9]],\n",
       " \n",
       "         [[1, 2, 3],\n",
       "          [4, 5, 6],\n",
       "          [7, 8, 9]]]]),\n",
       " numpy.ndarray)"
      ]
     },
     "execution_count": 96,
     "metadata": {},
     "output_type": "execute_result"
    }
   ],
   "source": [
    "# we have one cell. lets try to make a board\n",
    "board = np.resize(cell,(3,3,3,3))\n",
    "board, type(board)"
   ]
  },
  {
   "cell_type": "code",
   "execution_count": 50,
   "id": "c2794e79",
   "metadata": {},
   "outputs": [
    {
     "data": {
      "text/plain": [
       "array([[1, 4, 7],\n",
       "       [1, 4, 7],\n",
       "       [1, 4, 7]])"
      ]
     },
     "execution_count": 50,
     "metadata": {},
     "output_type": "execute_result"
    }
   ],
   "source": [
    "# That doesn't look aethetically pleasing, but we can worry about that later.\n",
    "\n",
    "# Let's see if we can call a sudoku 'column'. It should come out as '1,4,7,1,4,7,1,4,7'\n",
    "column_test = board[:,0,:,0]\n",
    "column_test"
   ]
  },
  {
   "cell_type": "code",
   "execution_count": 55,
   "id": "cfe0f958",
   "metadata": {},
   "outputs": [
    {
     "data": {
      "text/plain": [
       "[1, 4, 7, 1, 4, 7, 1, 4, 7]"
      ]
     },
     "execution_count": 55,
     "metadata": {},
     "output_type": "execute_result"
    }
   ],
   "source": [
    "# It doesn't have quite the right format, so let's try to break it down into just a simple list\n",
    "import itertools\n",
    "simple_list = list(itertools.chain(*column_test))\n",
    "simple_list     \n"
   ]
  },
  {
   "cell_type": "code",
   "execution_count": 57,
   "id": "dd9f0794",
   "metadata": {},
   "outputs": [
    {
     "data": {
      "text/plain": [
       "[[1, 4, 7, 1, 4, 7, 1, 4, 7],\n",
       " [2, 5, 8, 2, 5, 8, 2, 5, 8],\n",
       " [3, 6, 9, 3, 6, 9, 3, 6, 9],\n",
       " [1, 4, 7, 1, 4, 7, 1, 4, 7],\n",
       " [2, 5, 8, 2, 5, 8, 2, 5, 8],\n",
       " [3, 6, 9, 3, 6, 9, 3, 6, 9],\n",
       " [1, 4, 7, 1, 4, 7, 1, 4, 7],\n",
       " [2, 5, 8, 2, 5, 8, 2, 5, 8],\n",
       " [3, 6, 9, 3, 6, 9, 3, 6, 9]]"
      ]
     },
     "execution_count": 57,
     "metadata": {},
     "output_type": "execute_result"
    }
   ],
   "source": [
    "# If we want the program to be functional, it will have to loop over all the rows and columns. Let's try a for loop\n",
    "def column_check():\n",
    "    column_set = []\n",
    "    for x in range(3):\n",
    "        for y in range(3):\n",
    "            column = list(itertools.chain(*board[:,x,:,y]))\n",
    "            column_set.append(column)\n",
    "    return column_set\n",
    "    \n",
    "column_check()"
   ]
  },
  {
   "cell_type": "code",
   "execution_count": 59,
   "id": "4b9bba56",
   "metadata": {},
   "outputs": [
    {
     "data": {
      "text/plain": [
       "[[1, 2, 3, 1, 2, 3, 1, 2, 3],\n",
       " [4, 5, 6, 4, 5, 6, 4, 5, 6],\n",
       " [7, 8, 9, 7, 8, 9, 7, 8, 9],\n",
       " [1, 2, 3, 1, 2, 3, 1, 2, 3],\n",
       " [4, 5, 6, 4, 5, 6, 4, 5, 6],\n",
       " [7, 8, 9, 7, 8, 9, 7, 8, 9],\n",
       " [1, 2, 3, 1, 2, 3, 1, 2, 3],\n",
       " [4, 5, 6, 4, 5, 6, 4, 5, 6],\n",
       " [7, 8, 9, 7, 8, 9, 7, 8, 9]]"
      ]
     },
     "execution_count": 59,
     "metadata": {},
     "output_type": "execute_result"
    }
   ],
   "source": [
    "# That seems to work perfectly. Lets try to make a row function check.\n",
    "def row_check():\n",
    "    row_set = []\n",
    "    for x in range(3):\n",
    "        for y in range(3):\n",
    "            row = list(itertools.chain(*board[x,:,y,:]))\n",
    "            row_set.append(row)\n",
    "    return row_set\n",
    "# if this works it will return [1,2,3,1,2,3,1,2,3] in the first row\n",
    "row_check()"
   ]
  },
  {
   "cell_type": "markdown",
   "id": "cf27a922",
   "metadata": {},
   "source": [
    "That's great! Good progress.\n",
    "\n",
    "But these don't meet the constraints of sudoku. We need two things. A function that verifies the integrity of each row and column, and Random iterations of the sudoku board that have been verified.\n",
    "\n"
   ]
  },
  {
   "cell_type": "code",
   "execution_count": 68,
   "id": "0364094a",
   "metadata": {},
   "outputs": [
    {
     "name": "stdout",
     "output_type": "stream",
     "text": [
      "failure!\n",
      "failure!\n",
      "failure!\n"
     ]
    }
   ],
   "source": [
    "def verify_board(board):\n",
    "    row_set = []\n",
    "    column_set = []\n",
    "    verified = True \n",
    "    for x in range(3):\n",
    "        for y in range(3):\n",
    "            column = list(itertools.chain(*board[:,x,:,y]))\n",
    "            row = list(itertools.chain(*board[x,:,y,:]))\n",
    "            if len(list(set(column))) and len(list(set(row))) != 9:\n",
    "                print('failure!')\n",
    "                verified = False\n",
    "                break\n",
    "            else:\n",
    "                print(row,column)\n",
    "                row_set.append(row)\n",
    "                column_set.append(column)\n",
    "    if verified == True:\n",
    "        return board\n",
    "verify_board(board)"
   ]
  },
  {
   "cell_type": "markdown",
   "id": "b4056e75",
   "metadata": {},
   "source": [
    "Ok, well this may work. However flagging a clearly failing board does not mean it will be successful in verifying a correct one \n",
    "\n",
    "We can run this function anytime we randomize the board so lets try to make a function for that."
   ]
  },
  {
   "cell_type": "code",
   "execution_count": 80,
   "id": "000bb550",
   "metadata": {},
   "outputs": [
    {
     "data": {
      "text/plain": [
       "[1, 6, 7, 9, 4, 8, 2, 3, 5]"
      ]
     },
     "execution_count": 80,
     "metadata": {},
     "output_type": "execute_result"
    }
   ],
   "source": [
    "#each cell is correct, so the cell doesn't need to be changed. Let's create a board of repeatedly randomized cells.\n",
    "\n",
    "np.random.shuffle(number_list)\n",
    "number_list"
   ]
  },
  {
   "cell_type": "code",
   "execution_count": 84,
   "id": "91d395dd",
   "metadata": {},
   "outputs": [
    {
     "data": {
      "text/plain": [
       "array([[3, 2, 8],\n",
       "       [7, 6, 4],\n",
       "       [5, 9, 1]])"
      ]
     },
     "execution_count": 84,
     "metadata": {},
     "output_type": "execute_result"
    }
   ],
   "source": [
    "# We will try to create 9 shuffled number_lists and reshape them into a board\n",
    "cells = []\n",
    "for i in range(9):\n",
    "    np.random.shuffle(number_list)\n",
    "    cells.append(number_list)\n",
    "board = np.array(cells).reshape(3,3,3,3)\n",
    "# If this works, it should return 1-9\n",
    "board[0,0,:,:]"
   ]
  },
  {
   "cell_type": "markdown",
   "id": "5dcf1ef3",
   "metadata": {},
   "source": [
    "Whew! nice! Now we can create a suitable function that serves and verifies a board.\n"
   ]
  }
 ],
 "metadata": {
  "kernelspec": {
   "display_name": "Python 3",
   "language": "python",
   "name": "python3"
  },
  "language_info": {
   "codemirror_mode": {
    "name": "ipython",
    "version": 3
   },
   "file_extension": ".py",
   "mimetype": "text/x-python",
   "name": "python",
   "nbconvert_exporter": "python",
   "pygments_lexer": "ipython3",
   "version": "3.8.8"
  }
 },
 "nbformat": 4,
 "nbformat_minor": 5
}
